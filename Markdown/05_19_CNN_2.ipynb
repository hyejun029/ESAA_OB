{
  "nbformat": 4,
  "nbformat_minor": 0,
  "metadata": {
    "colab": {
      "provenance": []
    },
    "kernelspec": {
      "name": "python3",
      "display_name": "Python 3"
    },
    "language_info": {
      "name": "python"
    }
  },
  "cells": [
    {
      "cell_type": "markdown",
      "source": [
        "<딥러닝 파이토치 교과서> ch5. 2 p.179~200\n",
        "#5.2 합성곱 신경망 맛보기\n"
      ],
      "metadata": {
        "id": "YOc10_7VOLEE"
      }
    },
    {
      "cell_type": "markdown",
      "source": [
        "## fashion_mnist 데이터셋을 사용하여 합성곱 신경망 직접 구현\n",
        "\n",
        "`fashion_mnist` 데이터셋\n",
        "- 토치비전에 내장된 예제 데이터\n",
        "- `train_images`: 0~255 사이값을 갖는 28x28 크기의 넘파일 배열\n",
        "- `test_labels`: 0~9까지의 정수값을 갖는 레이블(정답) 배열"
      ],
      "metadata": {
        "id": "gGRqA7QYcAPJ"
      }
    },
    {
      "cell_type": "code",
      "source": [
        "# 라이브러리 호출\n",
        "import numpy as np\n",
        "import matplotlib.pyplot as plt\n",
        "\n",
        "import torch\n",
        "import torch.nn as nn\n",
        "from torch.autograd import Variable\n",
        "import torch.nn.functional as F\n",
        "\n",
        "import torchvision\n",
        "import torchvision.transforms as transforms # 데이터 전처리를 위해 사용하는 라이브러리\n",
        "from torch.utils.data import Dataset, DataLoader"
      ],
      "metadata": {
        "id": "zfwE5Mj_SGA6"
      },
      "execution_count": 1,
      "outputs": []
    },
    {
      "cell_type": "markdown",
      "source": [
        "파이토치는 기본적으로 GPU 사용을 권장. But, GPU가 장착되지 않은 환경에서도 파이토치를 정상적으로 실행하고 사용할 수 있음.\n",
        "- 하나의 GPU를 사용할 때 일반적으로 사용하는 코드\n",
        "\n",
        "\n",
        "```\n",
        "device = torch.device('cuda:0' if torch.cuda.is_available() else 'cpu')\n",
        "model = Net()\n",
        "model.to(device)\n",
        "```\n",
        "\n",
        "\n",
        "- 사용하는 PC에서 다수의 GPU를 사용한다면 다음 코드와 같이 `nn.DataParallel`을 사용\n",
        "\n",
        "\n",
        "\n",
        "```\n",
        "device = torch.device('cuda' if torch.cuda.is_available() else 'cpu')\n",
        "model = Net()\n",
        "if torch.cuda.device_count() > 1:\n",
        "  model = nn.DataParallel(net)\n",
        "model.to(device)\n",
        "```\n",
        "\n"
      ],
      "metadata": {
        "id": "Bjzm1X7zc9ls"
      }
    },
    {
      "cell_type": "code",
      "source": [
        "# CPU 혹은 GPU 장치 확인\n",
        "device = torch.device('cuda:0' if torch.cuda.is_available() else 'cpu')"
      ],
      "metadata": {
        "id": "RXStpmA0SdMh"
      },
      "execution_count": 2,
      "outputs": []
    },
    {
      "cell_type": "code",
      "source": [
        "# fashion_mnist 데이터셋 내려받기\n",
        "train_dataset = torchvision.datasets.FashionMNIST('/content/sample_data', download=True, transform=transforms.Compose([transforms.ToTensor()]))\n",
        "test_dataset = torchvision.datasets.FashionMNIST('/content/sample_data', download=True, transform=transforms.Compose([transforms.ToTensor()]))"
      ],
      "metadata": {
        "id": "lPOuFkl-S4Rj"
      },
      "execution_count": 7,
      "outputs": []
    },
    {
      "cell_type": "markdown",
      "source": [
        "- `torchvision.datasets`는 `torch.utils.data.Dataset`의 하위 클래스\n",
        "- 다양한 데이터셋 (CIFAR, COCO, MNIST, ImageNet) 을 포함\n",
        "- 주요 파라미터\n",
        "   - `'/content/sample_data'`: FashionMNIST를 다운받을 위치를 지정\n",
        "   - `download=True`: 지정된 위치에 해당 데이터셋이 있는지 확인 후 내려받음.\n",
        "   - `transform=transforms.Compose([transforms.ToTensor()])`: 이미지를 텐서(0~1)로 변경"
      ],
      "metadata": {
        "id": "wausMtVJfvly"
      }
    },
    {
      "cell_type": "code",
      "source": [
        "# fashion_mnist 데이터를 데이터로더에 전달\n",
        "train_loader = torch.utils.data.DataLoader(train_dataset, batch_size=100) # 100개 단위로 데이터를 묶어서 불러옴.\n",
        "test_loader = torch.utils.data.DataLoader(test_dataset, batch_size=100)"
      ],
      "metadata": {
        "id": "2RyhFNJfea5M"
      },
      "execution_count": 8,
      "outputs": []
    },
    {
      "cell_type": "markdown",
      "source": [
        "`torch.utils.data.DataLoader()`\n",
        "- 원하는 크기의 배치 단위로 데이터를 불러옴.\n",
        "- 순서를 무작위로 섞이도록(shuffle) 하는 것 가능."
      ],
      "metadata": {
        "id": "MnO_sT2qgzs7"
      }
    },
    {
      "cell_type": "code",
      "source": [
        "# 분류에 사용될 클래스 정의\n",
        "labels_map = {0: 'T-Shirt', 1: 'Trouser', 2: 'Pullover', 3: 'Dress', 4: 'Coat',\n",
        "              5: 'Sandal', 6: 'Shirt', 7: 'Sneaker', 8: 'Bag', 9: 'Ankle Boot'} # 열 개의 클래스\n",
        "\n",
        "fig = plt.figure(figsize=(8,8)); # 출력할 이미지의 가로세로 길이로 단위는 inch\n",
        "columns = 4;\n",
        "rows = 5;\n",
        "for i in range(1, columns*rows + 1):\n",
        "  img_xy = np.random.randint(len(train_dataset));\n",
        "  img = train_dataset[img_xy][0][0,:,:]\n",
        "  fig.add_subplot(rows, columns, i)\n",
        "  plt.title(labels_map[train_dataset[img_xy][1]])\n",
        "  plt.axis('off')\n",
        "  plt.imshow(img, cmap='gray')\n",
        "plt.show() # 20개의 이미지를 시각적으로 표현"
      ],
      "metadata": {
        "colab": {
          "base_uri": "https://localhost:8080/",
          "height": 675
        },
        "id": "42PWD_MTfAen",
        "outputId": "9b54a56b-bb69-49ea-c95b-13a941981493"
      },
      "execution_count": 9,
      "outputs": [
        {
          "output_type": "display_data",
          "data": {
            "text/plain": [
              "<Figure size 800x800 with 20 Axes>"
            ],
            "image/png": "[encoded data removed]"
          },
          "metadata": {}
        }
      ]
    },
    {
      "cell_type": "code",
      "source": [
        "# 심층 신경망 모델 생성\n",
        "class FashionDNN(nn.Module): # 클래스 형태의 모델은 항상 torch.nn.Module을 상속받음.\n",
        "  def __init__(self): # ...①\n",
        "    super(FashionDNN, self).__init__() # nn.Module 클래스를 상속받겠다는 의미\n",
        "    self.fc1 = nn.Linear(in_features=784, out_features=256) # ...②\n",
        "    self.drop = nn.Dropout(0.25) # ...③\n",
        "    self.fc2 = nn.Linear(in_features=256, out_features=128)\n",
        "    self.fc3 = nn.Linear(in_features=128, out_features=10)\n",
        "\n",
        "  def forward(self, input_data): # ...④\n",
        "    out = input_data.view(-1, 784) # ...⑤\n",
        "    out = F.relu(self.fc1(out)) # ...⑥\n",
        "    out = self.drop(out)\n",
        "    out = F.relu(self.fc2(out))\n",
        "    out = self.fc3(out)\n",
        "    return out"
      ],
      "metadata": {
        "id": "nOuZ_5aVlIDT"
      },
      "execution_count": 12,
      "outputs": []
    },
    {
      "cell_type": "markdown",
      "source": [
        "① `def __init__(self):`\n",
        "- `__init__()`은 객체가 갖는 속성값을 초기화하는 역할. 객체가 생성될 때 자동으로 호출됨.\n",
        "\n",
        "② `nn.Linear(in_features=784, out_features=256)`\n",
        "- `nn`은 딥러닝 모델 구성에 필요한 모듈이 모여있는 패키지\n",
        "- `Linear`은 단순 선형 회귀 모델을 만들 때 사용\n",
        "   - `in_features`: 입력의 크기\n",
        "   - `out_features`: 출력의 크기\n",
        "   - 실제로 데이터 연산이 진행되는 `forward()`부분에선 첫번째 파라미터 값만 넘겨줌.\n",
        "   - 두번째 차라미터에서 정의된 크기가 `forward()` 연산의 결과\n",
        "\n",
        "③ `self.drop = nn.Dropout(0.25)`\n",
        "- p 만큼의 비율로 텐서 값이 0이 됨.\n",
        "- 0이 되지 않는 값들은 기존 값에 $(1/(1-p))$만큼 곱해져서 커짐.\n",
        "\n",
        "④ `def forward(self, input_data):`\n",
        "- `forward()`함수는 모델이 학습 데이터를 입력받아서 순전파 연산을 진행.\n",
        "- 반드시 \"forward\"라는 이름의 함수여야 함.\n",
        "- 객체를 데이터와 함께 호출하면 자동으로 실행됨.\n",
        "\n",
        "\n",
        "⑤ `out = input_data.view(-1, 784)`\n",
        "- 파이토피의 view는 텐서의 크기를 변경. 넘파일의 reshape과 같은 역할.\n",
        "- `input_data`를 (?, 784)의 크기로 변경하라는 의미.\n",
        "\n",
        "⑥ `out = F.relu(self.fc1(out))`\n",
        "- 활성화 함수를 지정\n",
        "- 활성화 함수를 지정할 땐 두가지 방법이 있음.\n",
        "   - 사용하는 위치, 사용하는 방법에 차이.\n",
        "1. `F.relu()`\n",
        "      - `forward()` 함수에서 정의\n",
        "      - 사용 코드\n",
        "\n",
        "\n",
        "       ```\n",
        "       import torch\n",
        "       import torch.nn as nn\n",
        "\n",
        "       inputs = torch.randn(64, 3, 244, 244)\n",
        "       conv = nn.Conv2d(in_channels=3, out_channels=64, kernel_size=3, padding=1) # 세 개의 채널이 입력되어 64개의 채널이 출력되기 위해 연산으로 3x3 크기의 커널을 사용\n",
        "       outputs = conv(inputs)\n",
        "       layer = nn.Conv2d(1,1,3)\n",
        "       ```\n",
        "\n",
        "\n",
        "2. `nn.ReLU()`\n",
        "      - `__init__()` 함수에서 정의\n",
        "      - 사용 코드\n",
        "\n",
        "\n",
        "       ```\n",
        "       import torch.nn.functional as F\n",
        "\n",
        "       inputs = torch.randn(64, 3, 244, 244)\n",
        "       weight = torch.randn(64, 3, 3, 3)\n",
        "       bias = torch.randn(64)\n",
        "       outputs = F.conv2d(inputs, weight, bias, padding=1)\n",
        "       ```\n",
        "\n"
      ],
      "metadata": {
        "id": "6a-NUfgUunmR"
      }
    },
    {
      "cell_type": "code",
      "source": [
        "# 심층 신경망에서 필요한 파라미터 정의\n",
        "learning_rate = 0.001\n",
        "model = FashionDNN()\n",
        "model.to(device)\n",
        "\n",
        "criterion = nn.CrossEntropyLoss() # 분류문제에서 사용하는 손실 함수\n",
        "optimizer = torch.optim.Adam(model.parameters(), lr=learning_rate) # 옵티마이저를 위한 경사 하강법은 Adam을 사용, 학습률은 0.001을 사용.\n",
        "print(model)"
      ],
      "metadata": {
        "colab": {
          "base_uri": "https://localhost:8080/"
        },
        "id": "YpIPkf5elzcO",
        "outputId": "19a131b7-870f-4e69-862d-22ecf8f03513"
      },
      "execution_count": 14,
      "outputs": [
        {
          "output_type": "stream",
          "name": "stdout",
          "text": [
            "FashionDNN(\n",
            "  (fc1): Linear(in_features=784, out_features=256, bias=True)\n",
            "  (drop): Dropout(p=0.25, inplace=False)\n",
            "  (fc2): Linear(in_features=256, out_features=128, bias=True)\n",
            "  (fc3): Linear(in_features=128, out_features=10, bias=True)\n",
            ")\n"
          ]
        }
      ]
    },
    {
      "cell_type": "code",
      "source": [
        "# 심층 신경망을 이용한 모델 학습\n",
        "num_epochs = 5\n",
        "count = 0\n",
        "loss_list = []\n",
        "iteration_list = []\n",
        "accuracy_list = []\n",
        "\n",
        "prediction_list = []\n",
        "labels_list = []\n",
        "\n",
        "for epoch in range(num_epochs):\n",
        "  for images, labels in train_loader:\n",
        "    images, labels = images.to(device), labels.to(device)\n",
        "\n",
        "    train = Variable(images.view(100, 1, 28, 28))\n",
        "    labels = Variable(labels)\n",
        "\n",
        "    outputs = model(train)\n",
        "    loss = criterion(outputs, labels)\n",
        "    optimizer.zero_grad()\n",
        "    loss.backward()\n",
        "    optimizer.step()\n",
        "    count += 1\n",
        "\n",
        "    if not (count % 50):\n",
        "      total = 0\n",
        "      correct = 0\n",
        "      for images, labels in test_loader:\n",
        "        images, labels = images.to(device), labels.to(device)\n",
        "        labels_list.append(labels)\n",
        "        test = Variable(images.view(100, 1, 28, 28))\n",
        "        outputs = model(test)\n",
        "        predictions = torch.max(outputs, 1)[1].to(device)\n",
        "        prediction_list.append(predictions)\n",
        "        correct += (predictions == labels).sum()\n",
        "        total += len(labels)\n",
        "      accuracy = correct*100 / total\n",
        "      loss_list.append(loss.data)\n",
        "      iteration_list.append(count)\n",
        "      accuracy_list.append(accuracy)\n",
        "\n",
        "    if not (count % 500):\n",
        "      print('Iteration: {}, Loss: {}, Accuracy: {}%'.format(count, loss.data, accuracy))"
      ],
      "metadata": {
        "colab": {
          "base_uri": "https://localhost:8080/"
        },
        "id": "szUFjPwPnW9_",
        "outputId": "48fd0197-07a7-4d40-8792-3358befe2726"
      },
      "execution_count": 16,
      "outputs": [
        {
          "output_type": "stream",
          "name": "stdout",
          "text": [
            "Iteration: 500, Loss: 0.5765622854232788, Accuracy: 85.1500015258789%\n",
            "Iteration: 1000, Loss: 0.4383609890937805, Accuracy: 86.26667022705078%\n",
            "Iteration: 1500, Loss: 0.3709227442741394, Accuracy: 86.61333465576172%\n",
            "Iteration: 2000, Loss: 0.36492303013801575, Accuracy: 87.5616683959961%\n",
            "Iteration: 2500, Loss: 0.27268660068511963, Accuracy: 87.58000183105469%\n",
            "Iteration: 3000, Loss: 0.32302433252334595, Accuracy: 88.47000122070312%\n"
          ]
        }
      ]
    },
    {
      "cell_type": "markdown",
      "source": [
        "- 최종적으로 정확도 88.47%"
      ],
      "metadata": {
        "id": "7PJM-LOSpGX4"
      }
    },
    {
      "cell_type": "code",
      "source": [
        "# 합성곱 네트워크 생성\n",
        "class FashionCNN(nn.Module):\n",
        "  def __init__(self):\n",
        "    super(FashionCNN, self).__init__()\n",
        "    self.layer1 = nn.Sequential(\n",
        "        nn.Conv2d(in_channels=1, out_channels=32, kernel_size=3, padding=1),\n",
        "        nn.BatchNorm2d(32),\n",
        "        nn.ReLU(),\n",
        "        nn.MaxPool2d(kernel_size=2, stride=2)\n",
        "    )\n",
        "    self.layer2 = nn.Sequential(\n",
        "        nn.Conv2d(in_channels=32, out_channels=64, kernel_size=3),\n",
        "        nn.BatchNorm2d(64),\n",
        "        nn.ReLU(),\n",
        "        nn.MaxPool2d(2)\n",
        "    )\n",
        "    self.fc1 = nn.Linear(in_features=64*6*6, out_features=600)\n",
        "    self.drop = nn.Dropout2d(0.25)\n",
        "    self.fc2 = nn.Linear(in_features=600, out_features=120)\n",
        "    self.fc3 = nn.Linear(in_features=120, out_features=10) # 마지막 계층의 out_features는 클래스 개수를 의미\n",
        "\n",
        "  def forward(self, x):\n",
        "    out = self.layer1(x)\n",
        "    out = self.layer2(out)\n",
        "    out = out.view(out.size(0), -1)\n",
        "    out = self.fc1(out)\n",
        "    out = self.drop(out)\n",
        "    out = self.fc2(out)\n",
        "    out = self.fc3(out)\n",
        "    return out"
      ],
      "metadata": {
        "id": "LKR-scKuo6FS"
      },
      "execution_count": 20,
      "outputs": []
    },
    {
      "cell_type": "markdown",
      "source": [
        "- 입력 데이터의 출력 결과를 완전 연결층으로 보내기 위해서는 1차원으로 변경해주어야 함.\n",
        "- 여기서 사용하는 것이 Conv2d, MaxPool2d\n",
        "- Conv2d 계층에서의 출력 크기 구하는 공식\n",
        "   - `W`: 입력 데이터의 크기, `input_volume_size`\n",
        "   - `F`: 커널 크기, `kernel_size`\n",
        "   - `P`: 패딩 크기, `padding_size`\n",
        "   - `S`: 스트라이드, `strides`\n",
        "   - 출력 크기 = (`W`-`F`+2`P`)/`S` + 1\n",
        "- MaxPool2d 계층에서의 출력 크기 구하는 공식\n",
        "   - `IF`: 입력 필터의 크기, Conv2d의 출력 크기와 같음. `input_filter_size`\n",
        "   - `F`: 커널 크기, `kernel_size`\n",
        "   - 출력 크기 = `IF` / `F`\n"
      ],
      "metadata": {
        "id": "6fQMTwYoqfxX"
      }
    },
    {
      "cell_type": "code",
      "source": [
        "# 합성곱 네트워크를 위한 파라미터 정의\n",
        "learning_rate = 0.001\n",
        "model = FashionCNN()\n",
        "model.to(device)\n",
        "\n",
        "criterion = nn.CrossEntropyLoss()\n",
        "optimizer = torch.optim.Adam(model.parameters(), lr=learning_rate)\n",
        "print(model)"
      ],
      "metadata": {
        "colab": {
          "base_uri": "https://localhost:8080/"
        },
        "id": "kddP6OH_sGuy",
        "outputId": "4ce5a6cb-5823-4a53-c126-82e4a91c3dd6"
      },
      "execution_count": 21,
      "outputs": [
        {
          "output_type": "stream",
          "name": "stdout",
          "text": [
            "FashionCNN(\n",
            "  (layer1): Sequential(\n",
            "    (0): Conv2d(1, 32, kernel_size=(3, 3), stride=(1, 1), padding=(1, 1))\n",
            "    (1): BatchNorm2d(32, eps=1e-05, momentum=0.1, affine=True, track_running_stats=True)\n",
            "    (2): ReLU()\n",
            "    (3): MaxPool2d(kernel_size=2, stride=2, padding=0, dilation=1, ceil_mode=False)\n",
            "  )\n",
            "  (layer2): Sequential(\n",
            "    (0): Conv2d(32, 64, kernel_size=(3, 3), stride=(1, 1))\n",
            "    (1): BatchNorm2d(64, eps=1e-05, momentum=0.1, affine=True, track_running_stats=True)\n",
            "    (2): ReLU()\n",
            "    (3): MaxPool2d(kernel_size=2, stride=2, padding=0, dilation=1, ceil_mode=False)\n",
            "  )\n",
            "  (fc1): Linear(in_features=2304, out_features=600, bias=True)\n",
            "  (drop): Dropout2d(p=0.25, inplace=False)\n",
            "  (fc2): Linear(in_features=600, out_features=120, bias=True)\n",
            "  (fc3): Linear(in_features=120, out_features=10, bias=True)\n",
            ")\n"
          ]
        }
      ]
    },
    {
      "cell_type": "code",
      "source": [
        "# 모델 학습 및 성능 평가\n",
        "num_epochs = 5\n",
        "count = 0\n",
        "loss_list = []\n",
        "iteration_list = []\n",
        "accuracy_list = []\n",
        "\n",
        "prediction_list = []\n",
        "labels_list = []\n",
        "\n",
        "for epoch in range(num_epochs):\n",
        "  for images, labels in train_loader:\n",
        "    if count >= 1500:\n",
        "      break\n",
        "\n",
        "    images, labels = images.to(device), labels.to(device)\n",
        "\n",
        "    train = Variable(images.view(100, 1, 28, 28))\n",
        "    labels = Variable(labels)\n",
        "\n",
        "    outputs = model(train)\n",
        "    loss = criterion(outputs, labels)\n",
        "    optimizer.zero_grad()\n",
        "    loss.backward()\n",
        "    optimizer.step()\n",
        "    count += 1\n",
        "\n",
        "    if not (count % 50):\n",
        "      total = 0\n",
        "      correct = 0\n",
        "      for images, labels in test_loader:\n",
        "        images, labels = images.to(device), labels.to(device)\n",
        "        labels_list.append(labels)\n",
        "        test = Variable(images.view(100, 1, 28, 28))\n",
        "        outputs = model(test)\n",
        "        predictions = torch.max(outputs, 1)[1].to(device)\n",
        "        prediction_list.append(predictions)\n",
        "        correct += (predictions == labels).sum()\n",
        "        total += len(labels)\n",
        "      accuracy = correct*100 / total\n",
        "      loss_list.append(loss.data)\n",
        "      iteration_list.append(count)\n",
        "      accuracy_list.append(accuracy)\n",
        "\n",
        "    if not (count % 500):\n",
        "      print('Iteration: {}, Loss: {}, Accuracy: {}%'.format(count, loss.data, accuracy))"
      ],
      "metadata": {
        "colab": {
          "base_uri": "https://localhost:8080/"
        },
        "id": "8DaPSeIQsZoH",
        "outputId": "51f50a10-a277-4d7c-d6c2-4d9efb2df4a4"
      },
      "execution_count": null,
      "outputs": [
        {
          "output_type": "stream",
          "name": "stderr",
          "text": [
            "/usr/local/lib/python3.11/dist-packages/torch/nn/functional.py:1538: UserWarning: dropout2d: Received a 2-D input to dropout2d, which is deprecated and will result in an error in a future release. To retain the behavior and silence this warning, please use dropout instead. Note that dropout2d exists to provide channel-wise dropout on inputs with 2 spatial dimensions, a channel dimension, and an optional batch dimension (i.e. 3D or 4D inputs).\n",
            "  warnings.warn(warn_msg)\n"
          ]
        },
        {
          "output_type": "stream",
          "name": "stdout",
          "text": [
            "Iteration: 500, Loss: 0.44437018036842346, Accuracy: 88.86000061035156%\n",
            "Iteration: 1000, Loss: 0.34006375074386597, Accuracy: 89.1683349609375%\n",
            "Iteration: 1500, Loss: 0.33408278226852417, Accuracy: 90.19166564941406%\n"
          ]
        }
      ]
    },
    {
      "cell_type": "markdown",
      "source": [
        "- 정확도 약 %\n",
        "- 심층 신경망보다 정확도가 더 높음.\n",
        "- 실제로 이미지 데이터가 많아지면 단순 심층 신경망으로는 정확한 특성 추출 및 분류가 불가능.\n",
        "- 합성곱 신경망을 생성할 수 있도록 해야함."
      ],
      "metadata": {
        "id": "6OpsWPejtMX2"
      }
    }
  ]
}