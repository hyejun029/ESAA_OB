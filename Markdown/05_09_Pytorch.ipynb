{
  "nbformat": 4,
  "nbformat_minor": 0,
  "metadata": {
    "colab": {
      "provenance": []
    },
    "kernelspec": {
      "name": "python3",
      "display_name": "Python 3"
    },
    "language_info": {
      "name": "python"
    }
  },
  "cells": [
    {
      "cell_type": "markdown",
      "source": [
        "<딥러닝 파이토치 교과서> ch2. 4 p.69 ~ 87"
      ],
      "metadata": {
        "id": "kQeOD9VdI-ki"
      }
    },
    {
      "cell_type": "code",
      "source": [
        "pip install torch torchvision"
      ],
      "metadata": {
        "colab": {
          "base_uri": "https://localhost:8080/"
        },
        "id": "uviI5dfLp7ww",
        "outputId": "48e31a18-33e4-495f-b4c9-0e8c39280230"
      },
      "execution_count": 42,
      "outputs": [
        {
          "output_type": "stream",
          "name": "stdout",
          "text": [
            "Requirement already satisfied: torch in /usr/local/lib/python3.11/dist-packages (2.6.0+cu124)\n",
            "Requirement already satisfied: torchvision in /usr/local/lib/python3.11/dist-packages (0.21.0+cu124)\n",
            "Requirement already satisfied: filelock in /usr/local/lib/python3.11/dist-packages (from torch) (3.18.0)\n",
            "Requirement already satisfied: typing-extensions>=4.10.0 in /usr/local/lib/python3.11/dist-packages (from torch) (4.13.2)\n",
            "Requirement already satisfied: networkx in /usr/local/lib/python3.11/dist-packages (from torch) (3.4.2)\n",
            "Requirement already satisfied: jinja2 in /usr/local/lib/python3.11/dist-packages (from torch) (3.1.6)\n",
            "Requirement already satisfied: fsspec in /usr/local/lib/python3.11/dist-packages (from torch) (2025.3.2)\n",
            "Requirement already satisfied: nvidia-cuda-nvrtc-cu12==12.4.127 in /usr/local/lib/python3.11/dist-packages (from torch) (12.4.127)\n",
            "Requirement already satisfied: nvidia-cuda-runtime-cu12==12.4.127 in /usr/local/lib/python3.11/dist-packages (from torch) (12.4.127)\n",
            "Requirement already satisfied: nvidia-cuda-cupti-cu12==12.4.127 in /usr/local/lib/python3.11/dist-packages (from torch) (12.4.127)\n",
            "Requirement already satisfied: nvidia-cudnn-cu12==9.1.0.70 in /usr/local/lib/python3.11/dist-packages (from torch) (9.1.0.70)\n",
            "Requirement already satisfied: nvidia-cublas-cu12==12.4.5.8 in /usr/local/lib/python3.11/dist-packages (from torch) (12.4.5.8)\n",
            "Requirement already satisfied: nvidia-cufft-cu12==11.2.1.3 in /usr/local/lib/python3.11/dist-packages (from torch) (11.2.1.3)\n",
            "Requirement already satisfied: nvidia-curand-cu12==10.3.5.147 in /usr/local/lib/python3.11/dist-packages (from torch) (10.3.5.147)\n",
            "Requirement already satisfied: nvidia-cusolver-cu12==11.6.1.9 in /usr/local/lib/python3.11/dist-packages (from torch) (11.6.1.9)\n",
            "Requirement already satisfied: nvidia-cusparse-cu12==12.3.1.170 in /usr/local/lib/python3.11/dist-packages (from torch) (12.3.1.170)\n",
            "Requirement already satisfied: nvidia-cusparselt-cu12==0.6.2 in /usr/local/lib/python3.11/dist-packages (from torch) (0.6.2)\n",
            "Requirement already satisfied: nvidia-nccl-cu12==2.21.5 in /usr/local/lib/python3.11/dist-packages (from torch) (2.21.5)\n",
            "Requirement already satisfied: nvidia-nvtx-cu12==12.4.127 in /usr/local/lib/python3.11/dist-packages (from torch) (12.4.127)\n",
            "Requirement already satisfied: nvidia-nvjitlink-cu12==12.4.127 in /usr/local/lib/python3.11/dist-packages (from torch) (12.4.127)\n",
            "Requirement already satisfied: triton==3.2.0 in /usr/local/lib/python3.11/dist-packages (from torch) (3.2.0)\n",
            "Requirement already satisfied: sympy==1.13.1 in /usr/local/lib/python3.11/dist-packages (from torch) (1.13.1)\n",
            "Requirement already satisfied: mpmath<1.4,>=1.1.0 in /usr/local/lib/python3.11/dist-packages (from sympy==1.13.1->torch) (1.3.0)\n",
            "Requirement already satisfied: numpy in /usr/local/lib/python3.11/dist-packages (from torchvision) (1.26.4)\n",
            "Requirement already satisfied: pillow!=8.3.*,>=5.3.0 in /usr/local/lib/python3.11/dist-packages (from torchvision) (11.2.1)\n",
            "Requirement already satisfied: MarkupSafe>=2.0 in /usr/local/lib/python3.11/dist-packages (from jinja2->torch) (3.0.2)\n"
          ]
        }
      ]
    },
    {
      "cell_type": "code",
      "source": [
        "pip install --upgrade matplotlib seaborn scikit-learn"
      ],
      "metadata": {
        "colab": {
          "base_uri": "https://localhost:8080/"
        },
        "id": "Dy7cEjSVrxJ3",
        "outputId": "fa532fe6-b929-4c23-a58a-48b6daf9aaae"
      },
      "execution_count": 43,
      "outputs": [
        {
          "output_type": "stream",
          "name": "stdout",
          "text": [
            "Requirement already satisfied: matplotlib in /usr/local/lib/python3.11/dist-packages (3.10.3)\n",
            "Requirement already satisfied: seaborn in /usr/local/lib/python3.11/dist-packages (0.13.2)\n",
            "Requirement already satisfied: scikit-learn in /usr/local/lib/python3.11/dist-packages (1.6.1)\n",
            "Requirement already satisfied: contourpy>=1.0.1 in /usr/local/lib/python3.11/dist-packages (from matplotlib) (1.3.2)\n",
            "Requirement already satisfied: cycler>=0.10 in /usr/local/lib/python3.11/dist-packages (from matplotlib) (0.12.1)\n",
            "Requirement already satisfied: fonttools>=4.22.0 in /usr/local/lib/python3.11/dist-packages (from matplotlib) (4.57.0)\n",
            "Requirement already satisfied: kiwisolver>=1.3.1 in /usr/local/lib/python3.11/dist-packages (from matplotlib) (1.4.8)\n",
            "Requirement already satisfied: numpy>=1.23 in /usr/local/lib/python3.11/dist-packages (from matplotlib) (1.26.4)\n",
            "Requirement already satisfied: packaging>=20.0 in /usr/local/lib/python3.11/dist-packages (from matplotlib) (24.2)\n",
            "Requirement already satisfied: pillow>=8 in /usr/local/lib/python3.11/dist-packages (from matplotlib) (11.2.1)\n",
            "Requirement already satisfied: pyparsing>=2.3.1 in /usr/local/lib/python3.11/dist-packages (from matplotlib) (3.2.3)\n",
            "Requirement already satisfied: python-dateutil>=2.7 in /usr/local/lib/python3.11/dist-packages (from matplotlib) (2.9.0.post0)\n",
            "Requirement already satisfied: pandas>=1.2 in /usr/local/lib/python3.11/dist-packages (from seaborn) (2.2.2)\n",
            "Requirement already satisfied: scipy>=1.6.0 in /usr/local/lib/python3.11/dist-packages (from scikit-learn) (1.15.2)\n",
            "Requirement already satisfied: joblib>=1.2.0 in /usr/local/lib/python3.11/dist-packages (from scikit-learn) (1.4.2)\n",
            "Requirement already satisfied: threadpoolctl>=3.1.0 in /usr/local/lib/python3.11/dist-packages (from scikit-learn) (3.6.0)\n",
            "Requirement already satisfied: pytz>=2020.1 in /usr/local/lib/python3.11/dist-packages (from pandas>=1.2->seaborn) (2025.2)\n",
            "Requirement already satisfied: tzdata>=2022.7 in /usr/local/lib/python3.11/dist-packages (from pandas>=1.2->seaborn) (2025.2)\n",
            "Requirement already satisfied: six>=1.5 in /usr/local/lib/python3.11/dist-packages (from python-dateutil>=2.7->matplotlib) (1.17.0)\n"
          ]
        }
      ]
    },
    {
      "cell_type": "code",
      "source": [
        "pip install numpy==1.26.4 --force-reinstall"
      ],
      "metadata": {
        "colab": {
          "base_uri": "https://localhost:8080/"
        },
        "id": "YdtuymimvDUX",
        "outputId": "a1c358ff-2a92-4224-8081-5ad1ec69fe9d"
      },
      "execution_count": 44,
      "outputs": [
        {
          "output_type": "stream",
          "name": "stdout",
          "text": [
            "Collecting numpy==1.26.4\n",
            "  Using cached numpy-1.26.4-cp311-cp311-manylinux_2_17_x86_64.manylinux2014_x86_64.whl.metadata (61 kB)\n",
            "Using cached numpy-1.26.4-cp311-cp311-manylinux_2_17_x86_64.manylinux2014_x86_64.whl (18.3 MB)\n",
            "Installing collected packages: numpy\n",
            "  Attempting uninstall: numpy\n",
            "    Found existing installation: numpy 1.26.4\n",
            "    Uninstalling numpy-1.26.4:\n",
            "      Successfully uninstalled numpy-1.26.4\n",
            "\u001b[31mERROR: pip's dependency resolver does not currently take into account all the packages that are installed. This behaviour is the source of the following dependency conflicts.\n",
            "thinc 8.3.6 requires numpy<3.0.0,>=2.0.0, but you have numpy 1.26.4 which is incompatible.\u001b[0m\u001b[31m\n",
            "\u001b[0mSuccessfully installed numpy-1.26.4\n"
          ]
        }
      ]
    },
    {
      "cell_type": "code",
      "source": [
        "import torch\n",
        "import torch.nn as nn\n",
        "import numpy as np\n",
        "import pandas as pd\n",
        "import matplotlib.pyplot as plt\n",
        "import seaborn as sns\n",
        "%matplotlib inline"
      ],
      "metadata": {
        "id": "DglDlLEgrxOd"
      },
      "execution_count": 45,
      "outputs": []
    },
    {
      "cell_type": "code",
      "source": [
        "from google.colab import drive\n",
        "drive.mount('/content/drive')"
      ],
      "metadata": {
        "colab": {
          "base_uri": "https://localhost:8080/"
        },
        "id": "WTqAlpbuyj2J",
        "outputId": "a8a2e8f5-392e-49a6-b505-97ef4de91981"
      },
      "execution_count": 46,
      "outputs": [
        {
          "output_type": "stream",
          "name": "stdout",
          "text": [
            "Drive already mounted at /content/drive; to attempt to forcibly remount, call drive.mount(\"/content/drive\", force_remount=True).\n"
          ]
        }
      ]
    },
    {
      "cell_type": "markdown",
      "source": [
        "# 2.4 파이토치 코드 맛보기"
      ],
      "metadata": {
        "id": "dg0yBbr5Pdam"
      }
    },
    {
      "cell_type": "code",
      "source": [
        "import pandas as pd\n",
        "\n",
        "dataset = pd.read_csv('/content/drive/MyDrive/ESAA_OB/Dataset/car_evaluation.csv')\n",
        "dataset.head()"
      ],
      "metadata": {
        "colab": {
          "base_uri": "https://localhost:8080/",
          "height": 206
        },
        "id": "MHLJc54NrxQz",
        "outputId": "fb770780-e0a6-433e-c9c1-82da3931d028"
      },
      "execution_count": 47,
      "outputs": [
        {
          "output_type": "execute_result",
          "data": {
            "text/plain": [
              "   price  maint doors persons lug_capacity safety output\n",
              "0  vhigh  vhigh     2       2        small    low  unacc\n",
              "1  vhigh  vhigh     2       2        small    med  unacc\n",
              "2  vhigh  vhigh     2       2        small   high  unacc\n",
              "3  vhigh  vhigh     2       2          med    low  unacc\n",
              "4  vhigh  vhigh     2       2          med    med  unacc"
            ],
            "text/html": [
              "\n",
              "  <div id=\"df-58f48fc2-c21d-49c1-b444-4ab8884e1fdc\" class=\"colab-df-container\">\n",
              "    <div>\n",
              "<style scoped>\n",
              "    .dataframe tbody tr th:only-of-type {\n",
              "        vertical-align: middle;\n",
              "    }\n",
              "\n",
              "    .dataframe tbody tr th {\n",
              "        vertical-align: top;\n",
              "    }\n",
              "\n",
              "    .dataframe thead th {\n",
              "        text-align: right;\n",
              "    }\n",
              "</style>\n",
              "<table border=\"1\" class=\"dataframe\">\n",
              "  <thead>\n",
              "    <tr style=\"text-align: right;\">\n",
              "      <th></th>\n",
              "      <th>price</th>\n",
              "      <th>maint</th>\n",
              "      <th>doors</th>\n",
              "      <th>persons</th>\n",
              "      <th>lug_capacity</th>\n",
              "      <th>safety</th>\n",
              "      <th>output</th>\n",
              "    </tr>\n",
              "  </thead>\n",
              "  <tbody>\n",
              "    <tr>\n",
              "      <th>0</th>\n",
              "      <td>vhigh</td>\n",
              "      <td>vhigh</td>\n",
              "      <td>2</td>\n",
              "      <td>2</td>\n",
              "      <td>small</td>\n",
              "      <td>low</td>\n",
              "      <td>unacc</td>\n",
              "    </tr>\n",
              "    <tr>\n",
              "      <th>1</th>\n",
              "      <td>vhigh</td>\n",
              "      <td>vhigh</td>\n",
              "      <td>2</td>\n",
              "      <td>2</td>\n",
              "      <td>small</td>\n",
              "      <td>med</td>\n",
              "      <td>unacc</td>\n",
              "    </tr>\n",
              "    <tr>\n",
              "      <th>2</th>\n",
              "      <td>vhigh</td>\n",
              "      <td>vhigh</td>\n",
              "      <td>2</td>\n",
              "      <td>2</td>\n",
              "      <td>small</td>\n",
              "      <td>high</td>\n",
              "      <td>unacc</td>\n",
              "    </tr>\n",
              "    <tr>\n",
              "      <th>3</th>\n",
              "      <td>vhigh</td>\n",
              "      <td>vhigh</td>\n",
              "      <td>2</td>\n",
              "      <td>2</td>\n",
              "      <td>med</td>\n",
              "      <td>low</td>\n",
              "      <td>unacc</td>\n",
              "    </tr>\n",
              "    <tr>\n",
              "      <th>4</th>\n",
              "      <td>vhigh</td>\n",
              "      <td>vhigh</td>\n",
              "      <td>2</td>\n",
              "      <td>2</td>\n",
              "      <td>med</td>\n",
              "      <td>med</td>\n",
              "      <td>unacc</td>\n",
              "    </tr>\n",
              "  </tbody>\n",
              "</table>\n",
              "</div>\n",
              "    <div class=\"colab-df-buttons\">\n",
              "\n",
              "  <div class=\"colab-df-container\">\n",
              "    <button class=\"colab-df-convert\" onclick=\"convertToInteractive('df-58f48fc2-c21d-49c1-b444-4ab8884e1fdc')\"\n",
              "            title=\"Convert this dataframe to an interactive table.\"\n",
              "            style=\"display:none;\">\n",
              "\n",
              "  <svg xmlns=\"http://www.w3.org/2000/svg\" height=\"24px\" viewBox=\"0 -960 960 960\">\n",
              "    <path d=\"M120-120v-720h720v720H120Zm60-500h600v-160H180v160Zm220 220h160v-160H400v160Zm0 220h160v-160H400v160ZM180-400h160v-160H180v160Zm440 0h160v-160H620v160ZM180-180h160v-160H180v160Zm440 0h160v-160H620v160Z\"/>\n",
              "  </svg>\n",
              "    </button>\n",
              "\n",
              "  <style>\n",
              "    .colab-df-container {\n",
              "      display:flex;\n",
              "      gap: 12px;\n",
              "    }\n",
              "\n",
              "    .colab-df-convert {\n",
              "      background-color: #E8F0FE;\n",
              "      border: none;\n",
              "      border-radius: 50%;\n",
              "      cursor: pointer;\n",
              "      display: none;\n",
              "      fill: #1967D2;\n",
              "      height: 32px;\n",
              "      padding: 0 0 0 0;\n",
              "      width: 32px;\n",
              "    }\n",
              "\n",
              "    .colab-df-convert:hover {\n",
              "      background-color: #E2EBFA;\n",
              "      box-shadow: 0px 1px 2px rgba(60, 64, 67, 0.3), 0px 1px 3px 1px rgba(60, 64, 67, 0.15);\n",
              "      fill: #174EA6;\n",
              "    }\n",
              "\n",
              "    .colab-df-buttons div {\n",
              "      margin-bottom: 4px;\n",
              "    }\n",
              "\n",
              "    [theme=dark] .colab-df-convert {\n",
              "      background-color: #3B4455;\n",
              "      fill: #D2E3FC;\n",
              "    }\n",
              "\n",
              "    [theme=dark] .colab-df-convert:hover {\n",
              "      background-color: #434B5C;\n",
              "      box-shadow: 0px 1px 3px 1px rgba(0, 0, 0, 0.15);\n",
              "      filter: drop-shadow(0px 1px 2px rgba(0, 0, 0, 0.3));\n",
              "      fill: #FFFFFF;\n",
              "    }\n",
              "  </style>\n",
              "\n",
              "    <script>\n",
              "      const buttonEl =\n",
              "        document.querySelector('#df-58f48fc2-c21d-49c1-b444-4ab8884e1fdc button.colab-df-convert');\n",
              "      buttonEl.style.display =\n",
              "        google.colab.kernel.accessAllowed ? 'block' : 'none';\n",
              "\n",
              "      async function convertToInteractive(key) {\n",
              "        const element = document.querySelector('#df-58f48fc2-c21d-49c1-b444-4ab8884e1fdc');\n",
              "        const dataTable =\n",
              "          await google.colab.kernel.invokeFunction('convertToInteractive',\n",
              "                                                    [key], {});\n",
              "        if (!dataTable) return;\n",
              "\n",
              "        const docLinkHtml = 'Like what you see? Visit the ' +\n",
              "          '<a target=\"_blank\" href=https://colab.research.google.com/notebooks/data_table.ipynb>data table notebook</a>'\n",
              "          + ' to learn more about interactive tables.';\n",
              "        element.innerHTML = '';\n",
              "        dataTable['output_type'] = 'display_data';\n",
              "        await google.colab.output.renderOutput(dataTable, element);\n",
              "        const docLink = document.createElement('div');\n",
              "        docLink.innerHTML = docLinkHtml;\n",
              "        element.appendChild(docLink);\n",
              "      }\n",
              "    </script>\n",
              "  </div>\n",
              "\n",
              "\n",
              "    <div id=\"df-12e33f35-26f1-439a-8f93-8781ec82c59b\">\n",
              "      <button class=\"colab-df-quickchart\" onclick=\"quickchart('df-12e33f35-26f1-439a-8f93-8781ec82c59b')\"\n",
              "                title=\"Suggest charts\"\n",
              "                style=\"display:none;\">\n",
              "\n",
              "<svg xmlns=\"http://www.w3.org/2000/svg\" height=\"24px\"viewBox=\"0 0 24 24\"\n",
              "     width=\"24px\">\n",
              "    <g>\n",
              "        <path d=\"M19 3H5c-1.1 0-2 .9-2 2v14c0 1.1.9 2 2 2h14c1.1 0 2-.9 2-2V5c0-1.1-.9-2-2-2zM9 17H7v-7h2v7zm4 0h-2V7h2v10zm4 0h-2v-4h2v4z\"/>\n",
              "    </g>\n",
              "</svg>\n",
              "      </button>\n",
              "\n",
              "<style>\n",
              "  .colab-df-quickchart {\n",
              "      --bg-color: #E8F0FE;\n",
              "      --fill-color: #1967D2;\n",
              "      --hover-bg-color: #E2EBFA;\n",
              "      --hover-fill-color: #174EA6;\n",
              "      --disabled-fill-color: #AAA;\n",
              "      --disabled-bg-color: #DDD;\n",
              "  }\n",
              "\n",
              "  [theme=dark] .colab-df-quickchart {\n",
              "      --bg-color: #3B4455;\n",
              "      --fill-color: #D2E3FC;\n",
              "      --hover-bg-color: #434B5C;\n",
              "      --hover-fill-color: #FFFFFF;\n",
              "      --disabled-bg-color: #3B4455;\n",
              "      --disabled-fill-color: #666;\n",
              "  }\n",
              "\n",
              "  .colab-df-quickchart {\n",
              "    background-color: var(--bg-color);\n",
              "    border: none;\n",
              "    border-radius: 50%;\n",
              "    cursor: pointer;\n",
              "    display: none;\n",
              "    fill: var(--fill-color);\n",
              "    height: 32px;\n",
              "    padding: 0;\n",
              "    width: 32px;\n",
              "  }\n",
              "\n",
              "  .colab-df-quickchart:hover {\n",
              "    background-color: var(--hover-bg-color);\n",
              "    box-shadow: 0 1px 2px rgba(60, 64, 67, 0.3), 0 1px 3px 1px rgba(60, 64, 67, 0.15);\n",
              "    fill: var(--button-hover-fill-color);\n",
              "  }\n",
              "\n",
              "  .colab-df-quickchart-complete:disabled,\n",
              "  .colab-df-quickchart-complete:disabled:hover {\n",
              "    background-color: var(--disabled-bg-color);\n",
              "    fill: var(--disabled-fill-color);\n",
              "    box-shadow: none;\n",
              "  }\n",
              "\n",
              "  .colab-df-spinner {\n",
              "    border: 2px solid var(--fill-color);\n",
              "    border-color: transparent;\n",
              "    border-bottom-color: var(--fill-color);\n",
              "    animation:\n",
              "      spin 1s steps(1) infinite;\n",
              "  }\n",
              "\n",
              "  @keyframes spin {\n",
              "    0% {\n",
              "      border-color: transparent;\n",
              "      border-bottom-color: var(--fill-color);\n",
              "      border-left-color: var(--fill-color);\n",
              "    }\n",
              "    20% {\n",
              "      border-color: transparent;\n",
              "      border-left-color: var(--fill-color);\n",
              "      border-top-color: var(--fill-color);\n",
              "    }\n",
              "    30% {\n",
              "      border-color: transparent;\n",
              "      border-left-color: var(--fill-color);\n",
              "      border-top-color: var(--fill-color);\n",
              "      border-right-color: var(--fill-color);\n",
              "    }\n",
              "    40% {\n",
              "      border-color: transparent;\n",
              "      border-right-color: var(--fill-color);\n",
              "      border-top-color: var(--fill-color);\n",
              "    }\n",
              "    60% {\n",
              "      border-color: transparent;\n",
              "      border-right-color: var(--fill-color);\n",
              "    }\n",
              "    80% {\n",
              "      border-color: transparent;\n",
              "      border-right-color: var(--fill-color);\n",
              "      border-bottom-color: var(--fill-color);\n",
              "    }\n",
              "    90% {\n",
              "      border-color: transparent;\n",
              "      border-bottom-color: var(--fill-color);\n",
              "    }\n",
              "  }\n",
              "</style>\n",
              "\n",
              "      <script>\n",
              "        async function quickchart(key) {\n",
              "          const quickchartButtonEl =\n",
              "            document.querySelector('#' + key + ' button');\n",
              "          quickchartButtonEl.disabled = true;  // To prevent multiple clicks.\n",
              "          quickchartButtonEl.classList.add('colab-df-spinner');\n",
              "          try {\n",
              "            const charts = await google.colab.kernel.invokeFunction(\n",
              "                'suggestCharts', [key], {});\n",
              "          } catch (error) {\n",
              "            console.error('Error during call to suggestCharts:', error);\n",
              "          }\n",
              "          quickchartButtonEl.classList.remove('colab-df-spinner');\n",
              "          quickchartButtonEl.classList.add('colab-df-quickchart-complete');\n",
              "        }\n",
              "        (() => {\n",
              "          let quickchartButtonEl =\n",
              "            document.querySelector('#df-12e33f35-26f1-439a-8f93-8781ec82c59b button');\n",
              "          quickchartButtonEl.style.display =\n",
              "            google.colab.kernel.accessAllowed ? 'block' : 'none';\n",
              "        })();\n",
              "      </script>\n",
              "    </div>\n",
              "\n",
              "    </div>\n",
              "  </div>\n"
            ],
            "application/vnd.google.colaboratory.intrinsic+json": {
              "type": "dataframe",
              "variable_name": "dataset",
              "summary": "{\n  \"name\": \"dataset\",\n  \"rows\": 1728,\n  \"fields\": [\n    {\n      \"column\": \"price\",\n      \"properties\": {\n        \"dtype\": \"category\",\n        \"num_unique_values\": 4,\n        \"samples\": [\n          \"high\",\n          \"low\",\n          \"vhigh\"\n        ],\n        \"semantic_type\": \"\",\n        \"description\": \"\"\n      }\n    },\n    {\n      \"column\": \"maint\",\n      \"properties\": {\n        \"dtype\": \"category\",\n        \"num_unique_values\": 4,\n        \"samples\": [\n          \"high\",\n          \"low\",\n          \"vhigh\"\n        ],\n        \"semantic_type\": \"\",\n        \"description\": \"\"\n      }\n    },\n    {\n      \"column\": \"doors\",\n      \"properties\": {\n        \"dtype\": \"category\",\n        \"num_unique_values\": 4,\n        \"samples\": [\n          \"3\",\n          \"5more\",\n          \"2\"\n        ],\n        \"semantic_type\": \"\",\n        \"description\": \"\"\n      }\n    },\n    {\n      \"column\": \"persons\",\n      \"properties\": {\n        \"dtype\": \"category\",\n        \"num_unique_values\": 3,\n        \"samples\": [\n          \"2\",\n          \"4\",\n          \"more\"\n        ],\n        \"semantic_type\": \"\",\n        \"description\": \"\"\n      }\n    },\n    {\n      \"column\": \"lug_capacity\",\n      \"properties\": {\n        \"dtype\": \"category\",\n        \"num_unique_values\": 3,\n        \"samples\": [\n          \"small\",\n          \"med\",\n          \"big\"\n        ],\n        \"semantic_type\": \"\",\n        \"description\": \"\"\n      }\n    },\n    {\n      \"column\": \"safety\",\n      \"properties\": {\n        \"dtype\": \"category\",\n        \"num_unique_values\": 3,\n        \"samples\": [\n          \"low\",\n          \"med\",\n          \"high\"\n        ],\n        \"semantic_type\": \"\",\n        \"description\": \"\"\n      }\n    },\n    {\n      \"column\": \"output\",\n      \"properties\": {\n        \"dtype\": \"category\",\n        \"num_unique_values\": 4,\n        \"samples\": [\n          \"acc\",\n          \"good\",\n          \"unacc\"\n        ],\n        \"semantic_type\": \"\",\n        \"description\": \"\"\n      }\n    }\n  ]\n}"
            }
          },
          "metadata": {},
          "execution_count": 47
        }
      ]
    },
    {
      "cell_type": "code",
      "source": [
        "# 데이터셋 분포 파악\n",
        "fig_size = plt.rcParams['figure.figsize']\n",
        "fig_size[0] = 6\n",
        "fig_size[0] = 8\n",
        "plt.rcParams['figure.figsize'] = fig_size\n",
        "dataset.output.value_counts().plot(kind='pie', autopct='%0.05f%%',\n",
        "colors = ['lightblue', 'lightgreen', 'orange', 'pink'], explode=(0.05, 0.05, 0.05, 0.05))"
      ],
      "metadata": {
        "id": "pqAuRx0KrxWG",
        "colab": {
          "base_uri": "https://localhost:8080/",
          "height": 423
        },
        "outputId": "eca00633-dc2a-4e1c-8d26-c7ba63559502"
      },
      "execution_count": 48,
      "outputs": [
        {
          "output_type": "execute_result",
          "data": {
            "text/plain": [
              "<Axes: ylabel='count'>"
            ]
          },
          "metadata": {},
          "execution_count": 48
        },
        {
          "output_type": "display_data",
          "data": {
            "text/plain": [
              "<Figure size 800x480 with 1 Axes>"
            ],
            "image/png": "[encoded data removed]"
          },
          "metadata": {}
        }
      ]
    },
    {
      "cell_type": "markdown",
      "source": [
        "대부분의 자동차(70%)는 허용 불가능한 상태, 20%만 허용 가능한 수준.\n",
        "\n",
        "## 전처리\n",
        "(1) 데이터 타입 변환:  \n",
        "\n",
        "   범주형 데이터 -> dataset[category] : `by astype()`\n",
        "   \n",
        "   -> 넘파이 배열(Numpy array) : by `.cat.codes.values`\n",
        "\n",
        "   -> 텐서(Tensor) : by `torch` module\n",
        "\n",
        "(2) `np.stack()`을 이용해 두 개 이상의 넘파이 객체 합치기  "
      ],
      "metadata": {
        "id": "Dw_UrNxsU5jI"
      }
    },
    {
      "cell_type": "code",
      "source": [
        "# 데이터를 범주형 타입으로 변환\n",
        "categorical_columns = ['price', 'maint', 'doors', 'persons', 'lug_capacity', 'safety']\n",
        "\n",
        "for category in categorical_columns:\n",
        "  dataset[category] = dataset[category].astype('category')\n",
        "\n",
        "# 범주형 타입을 숫자(넘파이)배열로 변환\n",
        "price = dataset['price'].cat.codes.values # ...(1)\n",
        "maint = dataset['maint'].cat.codes.values\n",
        "doors = dataset['doors'].cat.codes.values\n",
        "persons = dataset['persons'].cat.codes.values\n",
        "lug_capacity = dataset['lug_capacity'].cat.codes.values\n",
        "safety = dataset['safety'].cat.codes.values\n",
        "\n",
        "categorical_data = np.stack([price, maint, doors, persons, lug_capacity, safety], 1) #...(2)\n",
        "categorical_data[:10]"
      ],
      "metadata": {
        "id": "kcySMG9lrxYA",
        "colab": {
          "base_uri": "https://localhost:8080/"
        },
        "outputId": "1c169f01-6a41-4f2c-eb73-d27fdb56787d"
      },
      "execution_count": 49,
      "outputs": [
        {
          "output_type": "execute_result",
          "data": {
            "text/plain": [
              "array([[3, 3, 0, 0, 2, 1],\n",
              "       [3, 3, 0, 0, 2, 2],\n",
              "       [3, 3, 0, 0, 2, 0],\n",
              "       [3, 3, 0, 0, 1, 1],\n",
              "       [3, 3, 0, 0, 1, 2],\n",
              "       [3, 3, 0, 0, 1, 0],\n",
              "       [3, 3, 0, 0, 0, 1],\n",
              "       [3, 3, 0, 0, 0, 2],\n",
              "       [3, 3, 0, 0, 0, 0],\n",
              "       [3, 3, 0, 1, 2, 1]], dtype=int8)"
            ]
          },
          "metadata": {},
          "execution_count": 49
        }
      ]
    },
    {
      "cell_type": "code",
      "source": [
        "# 배열을 텐서로 변환\n",
        "categorical_data = torch.tensor(categorical_data, dtype=torch.int64)\n",
        "categorical_data[:10]"
      ],
      "metadata": {
        "colab": {
          "base_uri": "https://localhost:8080/"
        },
        "id": "uiXUJw4kUA74",
        "outputId": "65dc88bc-792f-406e-aad5-fea4beaaddb1"
      },
      "execution_count": 50,
      "outputs": [
        {
          "output_type": "execute_result",
          "data": {
            "text/plain": [
              "tensor([[3, 3, 0, 0, 2, 1],\n",
              "        [3, 3, 0, 0, 2, 2],\n",
              "        [3, 3, 0, 0, 2, 0],\n",
              "        [3, 3, 0, 0, 1, 1],\n",
              "        [3, 3, 0, 0, 1, 2],\n",
              "        [3, 3, 0, 0, 1, 0],\n",
              "        [3, 3, 0, 0, 0, 1],\n",
              "        [3, 3, 0, 0, 0, 2],\n",
              "        [3, 3, 0, 0, 0, 0],\n",
              "        [3, 3, 0, 1, 2, 1]])"
            ]
          },
          "metadata": {},
          "execution_count": 50
        }
      ]
    },
    {
      "cell_type": "code",
      "source": [
        "# 레이블로 사용할 칼럼을 텐서로 변환\n",
        "outputs = pd.get_dummies(dataset.output)\n",
        "outputs = outputs.values\n",
        "outputs = torch.tensor(outputs).flatten() # 1차원 텐서로 변환\n",
        "\n",
        "print(categorical_data.shape)\n",
        "print(outputs.shape)"
      ],
      "metadata": {
        "colab": {
          "base_uri": "https://localhost:8080/"
        },
        "id": "3O0ZXEwniBum",
        "outputId": "86387464-13ef-4dd1-cbc3-3fc615b14d60"
      },
      "execution_count": 51,
      "outputs": [
        {
          "output_type": "stream",
          "name": "stdout",
          "text": [
            "torch.Size([1728, 6])\n",
            "torch.Size([6912])\n"
          ]
        }
      ]
    },
    {
      "cell_type": "markdown",
      "source": [
        "*`ravel(), rehshape(), flatten()`은 텐서의 차원을 바꿀 때 사용"
      ],
      "metadata": {
        "id": "ze3d5AewjP-Q"
      }
    },
    {
      "cell_type": "markdown",
      "source": [
        "## 워드 인베딩 (Word Embedding, 벡터화)\n",
        "- 높은 차원의 임베딩일수록 단어 간의 세부적인 관계를 잘 파악할 수 있음.\n",
        "- 보통 임베팅 크기(벡터 차원) = (칼럼의 고유 값 수) / 2\n"
      ],
      "metadata": {
        "id": "2Ca7SYKbkQaG"
      }
    },
    {
      "cell_type": "code",
      "source": [
        "# 범주형 칼럼을 N차원으로 변환\n",
        "categorical_column_sizes = [len(dataset[column].cat.categories) for column in categorical_columns]\n",
        "categorical_embedding_sizes = [(col_size, min(50, (col_size+1)//2)) for col_size in categorical_column_sizes]\n",
        "print(categorical_embedding_sizes)"
      ],
      "metadata": {
        "colab": {
          "base_uri": "https://localhost:8080/"
        },
        "id": "BGfSZQmzix5Z",
        "outputId": "f0b69486-6cde-4f24-d001-f5f21ebf7e11"
      },
      "execution_count": 52,
      "outputs": [
        {
          "output_type": "stream",
          "name": "stdout",
          "text": [
            "[(4, 2), (4, 2), (4, 2), (3, 2), (3, 2), (3, 2)]\n"
          ]
        }
      ]
    },
    {
      "cell_type": "code",
      "source": [
        "# 데이터셋 분리\n",
        "total_records = 1728\n",
        "test_records = int(total_records * .2) # 전체 데이터 중 20%를 테스트 용도로 사용\n",
        "\n",
        "categorical_train_data = categorical_data[:total_records - test_records]\n",
        "categorical_test_data = categorical_data[total_records - test_records:total_records]\n",
        "train_outputs = outputs[:total_records - test_records]\n",
        "test_outputs = outputs[total_records - test_records : total_records]"
      ],
      "metadata": {
        "id": "WL8B9fr5k-Cb"
      },
      "execution_count": 53,
      "outputs": []
    },
    {
      "cell_type": "code",
      "source": [
        "# 데이터셋 분리 확인\n",
        "print(len(categorical_train_data))\n",
        "print(len(train_outputs))\n",
        "print(len(categorical_test_data))\n",
        "print(len(test_outputs))"
      ],
      "metadata": {
        "colab": {
          "base_uri": "https://localhost:8080/"
        },
        "id": "LJNhmlAylomT",
        "outputId": "66f83be0-a879-48ec-f9c0-b47a185a7a63"
      },
      "execution_count": 54,
      "outputs": [
        {
          "output_type": "stream",
          "name": "stdout",
          "text": [
            "1383\n",
            "1383\n",
            "345\n",
            "345\n"
          ]
        }
      ]
    },
    {
      "cell_type": "markdown",
      "source": [
        "## 모델의 네트워크 생성"
      ],
      "metadata": {
        "id": "ipS85sG-l_iB"
      }
    },
    {
      "cell_type": "code",
      "source": [
        "# 모델의 네트워크 생성\n",
        "class Model(nn.Module): #...(1)\n",
        "    def __init__(self, embedding_size, output_size, layers, p=0.4):  #...(2)\n",
        "        super().__init__()  #...(3)\n",
        "        self.all_embeddings = nn.ModuleList([nn.Embedding(ni, nf) for\n",
        "                                         ni, nf in embedding_size])\n",
        "        self.embedding_dropout = nn.Dropout(p)\n",
        "\n",
        "        all_layers = []\n",
        "        num_categorical_cols = sum((nf for ni, nf in embedding_size))\n",
        "        input_size = num_categorical_cols  # 입력층의 크기를 찾기 위해 범주형 칼럼 개수를 input_size 변수에 저장\n",
        "\n",
        "        for i in layers:  #...(4)\n",
        "            all_layers.append(nn.Linear(input_size, i))\n",
        "            all_layers.append(nn.ReLU(inplace = True))\n",
        "            all_layers.append(nn.BatchNorm1d(i))\n",
        "            all_layers.append(nn.Dropout(p))\n",
        "            input_size = i\n",
        "\n",
        "        all_layers.append(nn.Linear(layers[-1], output_size))\n",
        "        # 신경망의 모든 계층이 순차적으로 실행되도록 모든 계층에 대한 목록(all_layers)을 nn.Sequential 클래스로 전달\n",
        "        self.layers = nn.Sequential(*all_layers)\n",
        "\n",
        "    def forward(self, x_categorical):  #...(5)\n",
        "        embeddings = []\n",
        "        for i,e in enumerate(self.all_embeddings):\n",
        "            embeddings.append(e(x_categorical[:, i]))\n",
        "\n",
        "        x = torch.cat(embeddings, 1)\n",
        "        x = self.embedding_dropout(x)\n",
        "        x = self.layers(x)\n",
        "        return x\n",
        ""
      ],
      "metadata": {
        "id": "OQSzniNWtB-V"
      },
      "execution_count": 60,
      "outputs": []
    },
    {
      "cell_type": "markdown",
      "source": [
        "(1) 클래스(class) 형태로 구현된 모델은 nn.Module을 상속받음.\n",
        "\n",
        "(2) `__init__()`: 모델에서 사용될 파라미터와 신경망을 초기화하기 위한 용도. 객체가 생성될 때 자동으로 호출.\n",
        "\n",
        "    `def __init__(self, embedding_size, output_size, layers, p=0.4)`\n",
        "   - `self`: 자기 자신을 의미\n",
        ""
      ],
      "metadata": {
        "id": "PTQbVPbOnrfN"
      }
    },
    {
      "cell_type": "markdown",
      "source": [
        "![image.png](data:image/png;base64,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)"
      ],
      "metadata": {
        "id": "Dlx00Wb9pfI3"
      }
    },
    {
      "cell_type": "markdown",
      "source": [
        "- `embedding_size`: 범주형 칼럼의 임베딩 크기\n",
        "- `output_size`: 출력층의 크기\n",
        "- `layers`: 모든 계층에 대한 목록\n",
        "- `p`: 드롭아웃(디폴트 0.5)\n",
        "\n",
        "(3) `super().__init__()`은 부모 클래스(`nn.Module`)에 접근할 때 사용."
      ],
      "metadata": {
        "id": "rz6aXVqvxQRY"
      }
    },
    {
      "cell_type": "markdown",
      "source": [
        "(4) 모델의 네트워크 계층을 구축하기 위해 for문을 이용해 각 계층을 `all_layers` 목록에 추가\n",
        "- Linear: 선형 계층은 입력 데이터에 선형 변환을 진행한 결과. 입력 * 가중치 + 바이어스\n"
      ],
      "metadata": {
        "id": "c9dRAGTHpfNZ"
      }
    },
    {
      "cell_type": "markdown",
      "source": [
        "![image.png](data:image/png;base64,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)"
      ],
      "metadata": {
        "id": "55FTV4eOp-q2"
      }
    },
    {
      "cell_type": "markdown",
      "source": [
        "- ReLU: 활성화 함수\n",
        "- BatchNorm1d: 배치 정규화 용도로 사용\n",
        "- Dropout: 과적합 방지에 사용\n",
        "\n",
        "(5) `forward()` 함수는 학습 데이터를 입력받아서 연산을 진행."
      ],
      "metadata": {
        "id": "OeE_Sz43p_D8"
      }
    },
    {
      "cell_type": "code",
      "source": [
        "# Model 클래스의 객체 생성\n",
        "model = Model(categorical_embedding_sizes, 4, [200, 100, 50], p=0.4)\n",
        "print(model)"
      ],
      "metadata": {
        "colab": {
          "base_uri": "https://localhost:8080/"
        },
        "id": "3QAuiSbanOdQ",
        "outputId": "17cc5be9-9885-417a-8ba9-d8acc8dc9f0b"
      },
      "execution_count": 61,
      "outputs": [
        {
          "output_type": "stream",
          "name": "stdout",
          "text": [
            "Model(\n",
            "  (all_embeddings): ModuleList(\n",
            "    (0-2): 3 x Embedding(4, 2)\n",
            "    (3-5): 3 x Embedding(3, 2)\n",
            "  )\n",
            "  (embedding_dropout): Dropout(p=0.4, inplace=False)\n",
            "  (layers): Sequential(\n",
            "    (0): Linear(in_features=12, out_features=200, bias=True)\n",
            "    (1): ReLU(inplace=True)\n",
            "    (2): BatchNorm1d(200, eps=1e-05, momentum=0.1, affine=True, track_running_stats=True)\n",
            "    (3): Dropout(p=0.4, inplace=False)\n",
            "    (4): Linear(in_features=200, out_features=100, bias=True)\n",
            "    (5): ReLU(inplace=True)\n",
            "    (6): BatchNorm1d(100, eps=1e-05, momentum=0.1, affine=True, track_running_stats=True)\n",
            "    (7): Dropout(p=0.4, inplace=False)\n",
            "    (8): Linear(in_features=100, out_features=50, bias=True)\n",
            "    (9): ReLU(inplace=True)\n",
            "    (10): BatchNorm1d(50, eps=1e-05, momentum=0.1, affine=True, track_running_stats=True)\n",
            "    (11): Dropout(p=0.4, inplace=False)\n",
            "    (12): Linear(in_features=50, out_features=4, bias=True)\n",
            "  )\n",
            ")\n"
          ]
        }
      ]
    },
    {
      "cell_type": "markdown",
      "source": [
        "-> 모델에 대한 구조(네트워크)를 보여줌.\n",
        "\n",
        "## 손실함수와 옵티마이저 정의\n",
        "- 손실함수: cross-entropy 사용\n",
        "- Optimizer: Adam 사용"
      ],
      "metadata": {
        "id": "8B8KDvVbqWes"
      }
    },
    {
      "cell_type": "code",
      "source": [
        "# 모델의 파라미터 정의\n",
        "loss_function = nn.CrossEntropyLoss()\n",
        "optimizer = torch.optim.Adam(model.parameters(), lr=0.001)"
      ],
      "metadata": {
        "id": "VgneCgseqUi4"
      },
      "execution_count": 62,
      "outputs": []
    },
    {
      "cell_type": "code",
      "source": [
        "# 파이토치는 GPU에 최적화된 딥러닝 프레임워크. CPU/GPU 사용 지정\n",
        "if torch.cuda.is_available():\n",
        "  device = torch.device('cude') # GPU가 있다면 GPU를 사용\n",
        "else:\n",
        "  device = torch.device('cpu') # 없다면 CPU를 사용"
      ],
      "metadata": {
        "id": "eHdr_iPtq5Ky"
      },
      "execution_count": 63,
      "outputs": []
    },
    {
      "cell_type": "markdown",
      "source": [
        "## 모델 학습"
      ],
      "metadata": {
        "id": "6QWHuYN5rVZO"
      }
    },
    {
      "cell_type": "code",
      "source": [
        "epochs = 500\n",
        "aggregated_losses = []\n",
        "train_outputs = train_outputs.to(device=device, dtype=torch.int64)\n",
        "\n",
        "# for문을 500회 반복, 각 반복마다 손실함수가 오차를 계산.\n",
        "for i in range(epochs):\n",
        "  i += 1\n",
        "  y_pred = model(categorical_train_data).to(device)\n",
        "  single_loss = loss_function(y_pred, train_outputs)\n",
        "  aggregated_losses.append(single_loss)\n",
        "\n",
        "  if i%25 == 1:\n",
        "    print(f'epoch: {i:3} loss: {single_loss.item():10.8f}')\n",
        "\n",
        "  optimizer.zero_grad()\n",
        "  single_loss.backward() # 가중치를 업데이터하기 위해 손실함수의 backward() 메서드 호출\n",
        "  optimizer.step() # 옵티마이저 함수의 step() 메서드를 이용하여 기울기 업데이트\n",
        "\n",
        "print(f'epoch: {i:3} loss: {single_loss.item():10.10f}') # 오차가 25 에포크마다 출력"
      ],
      "metadata": {
        "colab": {
          "base_uri": "https://localhost:8080/"
        },
        "id": "971A8d8zrXxN",
        "outputId": "8fef9b00-e97f-4c56-e1ad-62347ec68cbb"
      },
      "execution_count": 64,
      "outputs": [
        {
          "output_type": "stream",
          "name": "stdout",
          "text": [
            "epoch:   1 loss: 1.50614023\n",
            "epoch:  26 loss: 1.32318246\n",
            "epoch:  51 loss: 1.23384607\n",
            "epoch:  76 loss: 1.13553548\n",
            "epoch: 101 loss: 1.03831661\n",
            "epoch: 126 loss: 0.89005280\n",
            "epoch: 151 loss: 0.79280353\n",
            "epoch: 176 loss: 0.71814406\n",
            "epoch: 201 loss: 0.67730188\n",
            "epoch: 226 loss: 0.64884472\n",
            "epoch: 251 loss: 0.62277550\n",
            "epoch: 276 loss: 0.60079890\n",
            "epoch: 301 loss: 0.60047126\n",
            "epoch: 326 loss: 0.58975184\n",
            "epoch: 351 loss: 0.57966977\n",
            "epoch: 376 loss: 0.58412713\n",
            "epoch: 401 loss: 0.58263451\n",
            "epoch: 426 loss: 0.57533443\n",
            "epoch: 451 loss: 0.56516767\n",
            "epoch: 476 loss: 0.57094479\n",
            "epoch: 500 loss: 0.5641663671\n"
          ]
        }
      ]
    },
    {
      "cell_type": "markdown",
      "source": [
        "-> 25 에포크마다 출력된 오차 정보 보여줌.\n",
        "\n",
        "## 테스트 데이터셋으로 예측 진행"
      ],
      "metadata": {
        "id": "glBFXLWutYvk"
      }
    },
    {
      "cell_type": "code",
      "source": [
        "# 테스트 데이터셋으로 모델 예측\n",
        "test_outputs = test_outputs.to(device=device, dtype=torch.int64)\n",
        "with torch.no_grad():\n",
        "  y_val = model(categorical_test_data)\n",
        "  loss = loss_function(y_val, test_outputs)\n",
        "print(f'Loss: {loss:.8f}')"
      ],
      "metadata": {
        "colab": {
          "base_uri": "https://localhost:8080/"
        },
        "id": "94vs1vgjtgGD",
        "outputId": "0a1f3b6e-f4c8-41fa-e522-a8fadaea2f0e"
      },
      "execution_count": 65,
      "outputs": [
        {
          "output_type": "stream",
          "name": "stdout",
          "text": [
            "Loss: 0.57455963\n"
          ]
        }
      ]
    },
    {
      "cell_type": "markdown",
      "source": [
        "-> 테스트 용도의 데이터셋에 대한 손실값.\n",
        "\n",
        "-> 훈련 데이터셋에서 도출된 손실값과 비슷하므로 과적합은 발생하지 않았다고 판단."
      ],
      "metadata": {
        "id": "npK61tyZtzU3"
      }
    },
    {
      "cell_type": "code",
      "source": [
        "# 모델의 예측 확인\n",
        "print(y_val[:5])"
      ],
      "metadata": {
        "colab": {
          "base_uri": "https://localhost:8080/"
        },
        "id": "mpXvnhXetgLK",
        "outputId": "7aa5d1a7-ab25-4d4f-efa7-6989f6f4ee43"
      },
      "execution_count": 66,
      "outputs": [
        {
          "output_type": "stream",
          "name": "stdout",
          "text": [
            "tensor([[ 1.9186,  1.1002, -2.0354, -2.2169],\n",
            "        [ 3.5761,  2.1606, -5.0931, -5.3685],\n",
            "        [ 2.4815,  2.2125, -5.1940, -5.3363],\n",
            "        [ 1.6262,  0.8853, -4.4906, -4.0086],\n",
            "        [ 1.5674,  0.9788, -3.3813, -3.3204]])\n"
          ]
        }
      ]
    },
    {
      "cell_type": "markdown",
      "source": [
        "-> 앞에서 모델 네트워크의 output_size에 4로 지정했기 때문에 예측에도 네 개의 값이 포함됨."
      ],
      "metadata": {
        "id": "BieqeQH0uDV4"
      }
    },
    {
      "cell_type": "code",
      "source": [
        "# 목록에서 가장 큰 값을 갖는 인덱스 확인\n",
        "y_val = np.argmax(y_val, axis=1)\n",
        "print(y_val[:5])"
      ],
      "metadata": {
        "colab": {
          "base_uri": "https://localhost:8080/"
        },
        "id": "r_i5nV6FtgO2",
        "outputId": "ebf7a720-58f5-4831-84a8-9033261f8e3d"
      },
      "execution_count": 67,
      "outputs": [
        {
          "output_type": "stream",
          "name": "stdout",
          "text": [
            "tensor([0, 0, 0, 0, 0])\n"
          ]
        }
      ]
    },
    {
      "cell_type": "markdown",
      "source": [
        "-> 인덱스 0값이 인덱스 1인 값보다 큼."
      ],
      "metadata": {
        "id": "hmTjWDfNueWp"
      }
    },
    {
      "cell_type": "code",
      "source": [
        "# 테스트 데이터셋을 이용한 정확도 확인\n",
        "from sklearn.metrics import classification_report, confusion_matrix, accuracy_score\n",
        "print(confusion_matrix(test_outputs, y_val))\n",
        "print(classification_report(test_outputs, y_val))\n",
        "print(accuracy_score(test_outputs, y_val))"
      ],
      "metadata": {
        "colab": {
          "base_uri": "https://localhost:8080/"
        },
        "id": "JthKoWqMtgS9",
        "outputId": "c876ebf9-98ce-4a31-f709-b4a5b7b10741"
      },
      "execution_count": 68,
      "outputs": [
        {
          "output_type": "stream",
          "name": "stdout",
          "text": [
            "[[257   2]\n",
            " [ 86   0]]\n",
            "              precision    recall  f1-score   support\n",
            "\n",
            "           0       0.75      0.99      0.85       259\n",
            "           1       0.00      0.00      0.00        86\n",
            "\n",
            "    accuracy                           0.74       345\n",
            "   macro avg       0.37      0.50      0.43       345\n",
            "weighted avg       0.56      0.74      0.64       345\n",
            "\n",
            "0.744927536231884\n"
          ]
        }
      ]
    },
    {
      "cell_type": "markdown",
      "source": [
        "-> 신경망에서 필요한 모든 파라미터를 무작위로 선택했다는 것을 감안했을 때 75%의 정확도는 나쁘지 않음.\n",
        "\n",
        "-> 파라미터(훈련/테스트 데이터셋 분할, 은닉츨 개수 및 크기)를 변경하면서 더 나은 성능을 찾아보는 것도 학습에 도움이 될 것임."
      ],
      "metadata": {
        "id": "Z9SaiH9Nu13u"
      }
    },
    {
      "cell_type": "markdown",
      "source": [
        "# 딥러닝 분류 모델의 성능 평가 지표\n",
        "####[용어]\n",
        "- True Positive: 실제값 1, 모델 예측도 1\n",
        "- True Negative: 실제값 0, 모델 예측도 0\n",
        "- False Positive: 실제값 0, 모델 예측 1. $Type 1$ 오류.  \n",
        "- False Negative: 실제값 1, 모델 예측 0. $Type 2$ 오류."
      ],
      "metadata": {
        "id": "nqXGAKghvJFP"
      }
    },
    {
      "cell_type": "markdown",
      "source": [
        "####[성능 지표]\n",
        "- 정확도: 전체 예측 건수에서 정답을 맞힌 건수의 비율"
      ],
      "metadata": {
        "id": "yoS56UWhvtnN"
      }
    },
    {
      "cell_type": "markdown",
      "source": [
        "![image.png](data:image/png;base64,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)"
      ],
      "metadata": {
        "id": "RDV1ATD_v_R_"
      }
    },
    {
      "cell_type": "markdown",
      "source": [
        "- 재현율: 실제 정답이 1일때 모델도 1로 예측한 비율.\n",
        "   - 처음부터 데이터가 1일 확률이 적을 때 사용하면 좋음."
      ],
      "metadata": {
        "id": "amSGL7Mcv_Wf"
      }
    },
    {
      "cell_type": "markdown",
      "source": [
        "![image.png](data:image/png;base64,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)"
      ],
      "metadata": {
        "id": "RqejGBwIv_ap"
      }
    },
    {
      "cell_type": "markdown",
      "source": [
        "- 정밀도: 모델이 1이라고 예측한 것 중에서 실제로 정답이 1인 비율"
      ],
      "metadata": {
        "id": "ClLpIgQKv_eg"
      }
    },
    {
      "cell_type": "markdown",
      "source": [
        "![image.png](data:image/png;base64,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)"
      ],
      "metadata": {
        "id": "xHHqI59ov_jo"
      }
    },
    {
      "cell_type": "markdown",
      "source": [
        "- F1 스코어: 정밀도와 재현율의 trade-off 문제를 해결하기 위해 둘의 조화 평균(harmonic mean)을 이용한 것."
      ],
      "metadata": {
        "id": "zQxOeALlv_n4"
      }
    },
    {
      "cell_type": "markdown",
      "source": [
        "![image.png](data:image/png;base64,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)"
      ],
      "metadata": {
        "id": "cmZ1XuAxwlGp"
      }
    }
  ]
}